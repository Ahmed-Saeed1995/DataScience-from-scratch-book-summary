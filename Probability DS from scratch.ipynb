{
 "cells": [
  {
   "cell_type": "markdown",
   "metadata": {},
   "source": [
    "# Porbability"
   ]
  },
  {
   "cell_type": "code",
   "execution_count": 5,
   "metadata": {},
   "outputs": [
    {
     "name": "stdout",
     "output_type": "stream",
     "text": [
      "p(Both Girls| older) 0.5008888011060636\n",
      "p(Both Girls| either) 0.3368756641870351\n"
     ]
    }
   ],
   "source": [
    "import random, enum\n",
    "class Kind(enum.Enum):\n",
    "    GIRL = 0\n",
    "    BOY = 1\n",
    "    \n",
    "def random_kind() -> Kind:\n",
    "    return random.choice([Kind.GIRL, Kind.BOY])\n",
    "\n",
    "both_girls = 0\n",
    "older_girl = 0\n",
    "either_girl = 0\n",
    "\n",
    "random.seed(0)\n",
    "for _ in range(10000):\n",
    "    younger = random_kind()\n",
    "    older = random_kind()\n",
    "    if older == Kind.GIRL:\n",
    "        older_girl +=1\n",
    "    if older == Kind.GIRL and younger == Kind.GIRL:\n",
    "        both_girls +=1\n",
    "    if older == Kind.GIRL or younger== Kind.GIRL:\n",
    "        either_girl +=1\n",
    "        \n",
    "print(\"p(Both Girls| older)\", both_girls / older_girl)\n",
    "print(\"p(Both Girls| either)\", both_girls / either_girl)"
   ]
  }
 ],
 "metadata": {
  "kernelspec": {
   "display_name": "Python 3",
   "language": "python",
   "name": "python3"
  },
  "language_info": {
   "codemirror_mode": {
    "name": "ipython",
    "version": 3
   },
   "file_extension": ".py",
   "mimetype": "text/x-python",
   "name": "python",
   "nbconvert_exporter": "python",
   "pygments_lexer": "ipython3",
   "version": "3.7.6"
  }
 },
 "nbformat": 4,
 "nbformat_minor": 4
}
