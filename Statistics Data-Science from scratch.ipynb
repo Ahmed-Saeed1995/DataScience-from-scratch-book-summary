{
 "cells": [
  {
   "cell_type": "markdown",
   "metadata": {},
   "source": [
    "# Statistics\n",
    "***Detailed code***"
   ]
  },
  {
   "cell_type": "code",
   "execution_count": 1,
   "metadata": {},
   "outputs": [],
   "source": [
    "import matplotlib.pyplot as plt\n",
    "from collections import Counter\n",
    "from typing import List\n",
    "import math\n",
    "\n",
    "# from scratch.linear_algebra import dot\n",
    "\n",
    "Vector=List[float]\n",
    "%matplotlib inline"
   ]
  },
  {
   "cell_type": "code",
   "execution_count": 15,
   "metadata": {},
   "outputs": [
    {
     "data": {
      "text/plain": [
       "50"
      ]
     },
     "execution_count": 15,
     "metadata": {},
     "output_type": "execute_result"
    }
   ],
   "source": [
    "number_friends =  [100,20,50,40,54,10,25,89,21,54,32,71,95,2,14,32,35,32,85,32,8,21,68,89,\n",
    "                  74,68,65,74,65,8,87,98,45,35,87,85,74,65,74,65,84,12,68,58,75,55,35,45,25,10]\n",
    "minutes = [54,7,98,15,65,78,68,87,65,48,98,45,21,67,68,45,15,35,48,35,25,95,15,48,24,65,54,35,46,\n",
    "          57,65,45,65,54,54,57,98,59,12,20,65,87,66,55,44,99,20,10,100,65]\n",
    "len(minutes)"
   ]
  },
  {
   "cell_type": "code",
   "execution_count": 3,
   "metadata": {},
   "outputs": [
    {
     "data": {
      "text/plain": [
       "Text(0.5, 1.0, 'Histogram of friend counts')"
      ]
     },
     "execution_count": 3,
     "metadata": {},
     "output_type": "execute_result"
    },
    {
     "data": {
      "image/png": "[encoded data removed]",
      "text/plain": [
       "<Figure size 432x288 with 1 Axes>"
      ]
     },
     "metadata": {
      "needs_background": "light"
     },
     "output_type": "display_data"
    }
   ],
   "source": [
    "friend_counts = Counter(number_friends)\n",
    "xs = range(49)\n",
    "ys = [friend_counts[x] for x in xs]\n",
    "plt.bar(xs, ys)\n",
    "plt.axis([0, 49, 0, 5])\n",
    "plt.ylabel(\"#N of people\")\n",
    "plt.xlabel(\"#N of friends\")\n",
    "plt.title(\"Histogram of friend counts\")"
   ]
  },
  {
   "cell_type": "markdown",
   "metadata": {},
   "source": [
    "## Central Tendencie\n",
    "- Mean\n",
    "- Median\n",
    "- Quantile\n",
    "- Mode"
   ]
  },
  {
   "cell_type": "code",
   "execution_count": 4,
   "metadata": {},
   "outputs": [],
   "source": [
    "#mean\n",
    "def mean(xs:List[float]) ->float:\n",
    "    return sum(xs) / len(xs)"
   ]
  },
  {
   "cell_type": "code",
   "execution_count": 5,
   "metadata": {},
   "outputs": [],
   "source": [
    "#median\n",
    "def median_odd(xs :List[float]) -> float:\n",
    "    return sorted(xs)[len(xs) // 2]\n",
    "\n",
    "def median_even(xs:List[float]) -> float:\n",
    "    sorted_xs = sorted(xs)\n",
    "    hi_midpoint = len(xs) // 2\n",
    "    return (sorted_xs[hi_midpoint -1 ] + sorted_xs[hi_midpoint])\n",
    "\n",
    "def median(xs: List[float]) -> float:\n",
    "    return median_even(xs) if len(xs) % 2 == 0 else median_odd(xs)"
   ]
  },
  {
   "cell_type": "code",
   "execution_count": 6,
   "metadata": {},
   "outputs": [],
   "source": [
    "#quantile\n",
    "def quantile(xs: List[float], p: float) -> float:\n",
    "    percentile = int(p * len(xs))\n",
    "    return sorted(xs)[percentile]"
   ]
  },
  {
   "cell_type": "code",
   "execution_count": 7,
   "metadata": {},
   "outputs": [],
   "source": [
    "#mode\n",
    "def mode(xs:List[float]) -> float:\n",
    "    counting = Counter(xs)\n",
    "    max_counter = max(counting.values())\n",
    "    return [x for x, y in counting.items() if y == max_counter]"
   ]
  },
  {
   "cell_type": "markdown",
   "metadata": {},
   "source": [
    "***Dispersion***"
   ]
  },
  {
   "cell_type": "code",
   "execution_count": 8,
   "metadata": {},
   "outputs": [],
   "source": [
    "def dot(v:Vector, w:Vector)-> Vector:\n",
    "    assert len(v) == len(w)\n",
    "    return sum(v1 * w1 for v1, w1 in zip(v,w))\n",
    "\n",
    "def sum_of_squares(v:Vector):\n",
    "    return dot(v,v)"
   ]
  },
  {
   "cell_type": "code",
   "execution_count": 9,
   "metadata": {},
   "outputs": [],
   "source": [
    "def data_range(xs: List[float]) -> float:\n",
    "    return max(xs) - min(xs)"
   ]
  },
  {
   "cell_type": "code",
   "execution_count": 10,
   "metadata": {},
   "outputs": [],
   "source": [
    "def de_mean(xs:List[float]) -> float:\n",
    "    xs_mean = mean(xs)\n",
    "    return [ i - xs_mean for i in xs]"
   ]
  },
  {
   "cell_type": "code",
   "execution_count": 11,
   "metadata": {},
   "outputs": [],
   "source": [
    "def variance(xs: List[float]) -> float:\n",
    "    n = len(xs)\n",
    "    deviation = de_mean(xs)\n",
    "    return sum_of_squares(deviation) / (n-1)\n",
    "\n",
    "def std_deviation(xs: List[float]) -> float:\n",
    "    return math.sqrt(variance(xs))"
   ]
  },
  {
   "cell_type": "code",
   "execution_count": 12,
   "metadata": {},
   "outputs": [],
   "source": [
    "def interquartile_range(xs: List[float]) -> float:\n",
    "    return quantile(xs, 0.75) - quantile(xs, 0.25)"
   ]
  },
  {
   "cell_type": "markdown",
   "metadata": {},
   "source": [
    "***Correlation***\n",
    "\n",
    "* covariance formula\n",
    "<img src= \"covariance.png\"  width = \"305px\"/>\n",
    "* correlation formula\n",
    "<img src= \"correaltion.png\" width = \"305px\"/>\n"
   ]
  },
  {
   "cell_type": "code",
   "execution_count": 16,
   "metadata": {},
   "outputs": [],
   "source": [
    "def covariance(xs: List[float], ys: List[float]) -> List[float]:\n",
    "    \n",
    "    return dot(de_mean(xs), de_mean(ys)) / (len(xs) -1)\n",
    "\n",
    "def correlation(xs: List[float], ys: List[float]) -> float:\n",
    "    std_xs = std_deviation(xs)\n",
    "    std_ys = std_deviation(ys)\n",
    "    \n",
    "    if std_xs > 0 and std_ys > 0:\n",
    "        return covariance(xs, ys) / std_xs / std_ys\n",
    "    else:\n",
    "        return 0"
   ]
  }
 ],
 "metadata": {
  "kernelspec": {
   "display_name": "Python 3",
   "language": "python",
   "name": "python3"
  },
  "language_info": {
   "codemirror_mode": {
    "name": "ipython",
    "version": 3
   },
   "file_extension": ".py",
   "mimetype": "text/x-python",
   "name": "python",
   "nbconvert_exporter": "python",
   "pygments_lexer": "ipython3",
   "version": "3.7.6"
  }
 },
 "nbformat": 4,
 "nbformat_minor": 4
}
